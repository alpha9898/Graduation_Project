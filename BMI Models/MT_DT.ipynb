{
 "cells": [
  {
   "cell_type": "code",
   "execution_count": 191,
   "id": "9ed84bc0-caf3-4e64-95f7-7eb9624788d1",
   "metadata": {},
   "outputs": [],
   "source": [
    "import pandas as pd\n",
    "from sklearn.model_selection import train_test_split\n",
    "from sklearn.preprocessing import LabelEncoder\n",
    "from sklearn.tree import DecisionTreeClassifier\n",
    "from sklearn.metrics import accuracy_score"
   ]
  },
  {
   "cell_type": "code",
   "execution_count": 193,
   "id": "e8aaa6e0-5cd9-45eb-9cff-e69af3801736",
   "metadata": {},
   "outputs": [],
   "source": [
    "# Load the dataset \n",
    "data_path = 'C:\\\\Users\\\\MOHAMED\\\\final_dataset.csv'\n",
    "dataset = pd.read_csv(data_path)"
   ]
  },
  {
   "cell_type": "code",
   "execution_count": 195,
   "id": "d4a69c76-f400-4d84-a818-14465b38df18",
   "metadata": {},
   "outputs": [
    {
     "data": {
      "text/plain": [
       "<bound method NDFrame.head of           Weight    Height        BMI  Gender  Age         BMIcase  \\\n",
       "0      92.085190  1.760250  29.719488  Female   59     over weight   \n",
       "1      61.089124  1.595499  23.997776  Female   25          normal   \n",
       "2      82.454037  1.816538  24.987499  Female   50          normal   \n",
       "3     101.713306  1.790696  31.720047  Female   62           obese   \n",
       "4      99.609527  1.969726  25.673756    Male   57     over weight   \n",
       "...          ...       ...        ...     ...  ...             ...   \n",
       "4995   55.256111  1.442648  26.549697  Female   23     over weight   \n",
       "4996  106.683815  1.779544  33.688435  Female   65    severe obese   \n",
       "4997   55.645396  1.915978  15.158221    Male   26  sever thinness   \n",
       "4998   83.748623  1.751525  27.298892  Female   55     over weight   \n",
       "4999  103.344782  1.789984  32.254493  Female   22    severe obese   \n",
       "\n",
       "      Exercise Recommendation Plan  \n",
       "0                                5  \n",
       "1                                4  \n",
       "2                                4  \n",
       "3                                6  \n",
       "4                                5  \n",
       "...                            ...  \n",
       "4995                             5  \n",
       "4996                             7  \n",
       "4997                             1  \n",
       "4998                             5  \n",
       "4999                             7  \n",
       "\n",
       "[5000 rows x 7 columns]>"
      ]
     },
     "execution_count": 195,
     "metadata": {},
     "output_type": "execute_result"
    }
   ],
   "source": [
    "# Display basic information and a sample of the data\n",
    "dataset.info\n",
    "dataset.head"
   ]
  },
  {
   "cell_type": "code",
   "execution_count": 197,
   "id": "b4c6ff05-5e20-4684-ab62-1fa03ef0c54c",
   "metadata": {},
   "outputs": [],
   "source": [
    "# Preprocessing: Encode categorical features\n",
    "label_encoder_gender = LabelEncoder()\n",
    "label_encoder_bmicase = LabelEncoder()"
   ]
  },
  {
   "cell_type": "code",
   "execution_count": 199,
   "id": "9420960e-879c-444c-a394-9d766cd0e948",
   "metadata": {},
   "outputs": [],
   "source": [
    "# Encoding the 'Gender' and 'BMIcase' columns\n",
    "dataset['Gender'] = label_encoder_gender.fit_transform(dataset['Gender'])\n",
    "dataset['BMIcase'] = label_encoder_bmicase.fit_transform(dataset['BMIcase'])"
   ]
  },
  {
   "cell_type": "code",
   "execution_count": 201,
   "id": "b1ddffcb-bb47-4f7a-af06-8bf84741fe66",
   "metadata": {},
   "outputs": [
    {
     "data": {
      "text/plain": [
       "(None,\n",
       "        Weight    Height        BMI  Gender  Age  BMIcase  \\\n",
       " 0   92.085190  1.760250  29.719488       0   59        4   \n",
       " 1   61.089124  1.595499  23.997776       0   25        2   \n",
       " 2   82.454037  1.816538  24.987499       0   50        2   \n",
       " 3  101.713306  1.790696  31.720047       0   62        3   \n",
       " 4   99.609527  1.969726  25.673756       1   57        4   \n",
       " \n",
       "    Exercise Recommendation Plan  \n",
       " 0                             5  \n",
       " 1                             4  \n",
       " 2                             4  \n",
       " 3                             6  \n",
       " 4                             5  )"
      ]
     },
     "execution_count": 201,
     "metadata": {},
     "output_type": "execute_result"
    }
   ],
   "source": [
    "dataset_info, dataset_head"
   ]
  },
  {
   "cell_type": "code",
   "execution_count": 225,
   "id": "c29e1b9e-a886-46ab-8ecb-c654e973043f",
   "metadata": {},
   "outputs": [],
   "source": [
    "# Separate features and target variable\n",
    "X = dataset.drop(columns=['BMIcase'])\n",
    "y = dataset['BMIcase']"
   ]
  },
  {
   "cell_type": "code",
   "execution_count": 275,
   "id": "0fdb3d90-a842-4d02-aa75-5e0cc1dae535",
   "metadata": {},
   "outputs": [],
   "source": [
    "# Split the data into training and testing sets\n",
    "X_train, X_test, y_train, y_test = train_test_split(X, y, test_size=0.4, random_state=42)"
   ]
  },
  {
   "cell_type": "code",
   "execution_count": 277,
   "id": "59b8a748-a435-4ab8-8689-303b492887f6",
   "metadata": {},
   "outputs": [],
   "source": [
    "# Initialize and train the Decision Tree model\n",
    "model = DecisionTreeClassifier(random_state=42)\n",
    "model.fit(X_train, y_train)\n",
    "y_pred = model.predict(X_test)"
   ]
  },
  {
   "cell_type": "code",
   "execution_count": 279,
   "id": "c79b7793-55f0-4983-a6a4-cb9a45aed7ce",
   "metadata": {},
   "outputs": [
    {
     "name": "stdout",
     "output_type": "stream",
     "text": [
      "Accuracy: 99.95%\n"
     ]
    }
   ],
   "source": [
    "accuracy = accuracy_score(y_test, y_pred) * 100\n",
    "print(f\"Accuracy: {accuracy:.2f}%\")"
   ]
  },
  {
   "cell_type": "code",
   "execution_count": null,
   "id": "a44f7fd2-d746-47c9-8881-28a73c593d7b",
   "metadata": {},
   "outputs": [],
   "source": []
  }
 ],
 "metadata": {
  "kernelspec": {
   "display_name": "Python 3 (ipykernel)",
   "language": "python",
   "name": "python3"
  },
  "language_info": {
   "codemirror_mode": {
    "name": "ipython",
    "version": 3
   },
   "file_extension": ".py",
   "mimetype": "text/x-python",
   "name": "python",
   "nbconvert_exporter": "python",
   "pygments_lexer": "ipython3",
   "version": "3.12.7"
  }
 },
 "nbformat": 4,
 "nbformat_minor": 5
}
